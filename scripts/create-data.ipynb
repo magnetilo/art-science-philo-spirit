{
 "cells": [
  {
   "cell_type": "code",
   "execution_count": 1,
   "metadata": {},
   "outputs": [
    {
     "data": {
      "text/plain": [
       "True"
      ]
     },
     "execution_count": 1,
     "metadata": {},
     "output_type": "execute_result"
    }
   ],
   "source": [
    "from dotenv import load_dotenv\n",
    "\n",
    "# Load environment variables from .env file\n",
    "load_dotenv()"
   ]
  },
  {
   "cell_type": "code",
   "execution_count": 9,
   "metadata": {},
   "outputs": [
    {
     "name": "stdout",
     "output_type": "stream",
     "text": [
      "```\n",
      "| Year   | Idea/Movement               | Influential Individual(s)      | Continent  | Weight |\n",
      "|--------|-----------------------------|--------------------------------|------------|--------|\n",
      "| -500   | Greek Classical Sculpture   | Phidias                        | Europe     | 8      |\n",
      "| -400   | Chinese Ink Wash Painting   | Gu Kaizhi                      | Asia       | 7      |\n",
      "| 0      | Roman Portraiture           | Sculptors of Augustus          | Europe     | 7      |\n",
      "| 500    | Byzantine Mosaics           | Anonymous Byzantine Artists    | Europe     | 8      |\n",
      "| 700    | Islamic Geometric Patterns  | Various Islamic Artisans       | Asia       | 8      |\n",
      "| 1100   | Gothic Architecture         | Abbot Suger                    | Europe     | 9      |\n",
      "| 1300   | Italian Renaissance         | Giotto                         | Europe     | 10     |\n",
      "| 1450   | Perspective in Art          | Filippo Brunelleschi           | Europe     | 10     |\n",
      "| 1500   | High Renaissance            | Leonardo da Vinci, Michelangelo| Europe     | 10     |\n",
      "| 1600   | Baroque                     | Caravaggio, Bernini            | Europe     | 9      |\n",
      "| 1700   | Rococo                      | François Boucher               | Europe     | 7      |\n",
      "| 1750   | Neoclassicism               | Jacques-Louis David            | Europe     | 8      |\n",
      "| 1820   | Romanticism                 | Eugene Delacroix               | Europe     | 9      |\n",
      "| 1850   | Realism                     | Gustave Courbet                | Europe     | 8      |\n",
      "| 1870   | Impressionism               | Claude Monet                   | Europe     | 10     |\n",
      "| 1900   | Fauvism                     | Henri Matisse                  | Europe     | 7      |\n",
      "| 1910   | Cubism                      | Pablo Picasso, Georges Braque  | Europe     | 10     |\n",
      "| 1920   | Surrealism                  | Salvador Dalí, André Breton    | Europe     | 9      |\n",
      "| 1930   | Mexican Muralism            | Diego Rivera                   | North America | 8     |\n",
      "| 1940   | Abstract Expressionism      | Jackson Pollock                | North America | 10    |\n",
      "| 1960   | Pop Art                     | Andy Warhol                    | North America | 9     |\n",
      "| 1960   | Minimalism                  | Donald Judd                    | North America | 8     |\n",
      "| 1970   | Land Art                    | Robert Smithson                | North America | 7     |\n",
      "```\n"
     ]
    }
   ],
   "source": [
    "import openai\n",
    "\n",
    "sphere = \"art\"\n",
    "\n",
    "prompt = f\"\"\"\n",
    "Create a table of all major new ideas and influential individuals along with a year column \n",
    "and a weight column that weights the impact between 1 and 10, and the continent on which this idea emerged, \n",
    "in the sphere of {sphere} between the years -2000 to 2000.\n",
    "- The year column should be a positive or negative integer, where years BCE are negative numbers.\n",
    "- Output only the table, no additional text.\n",
    "\"\"\"\n",
    "\n",
    "completion = openai.chat.completions.create(\n",
    "    model=\"gpt-4o\",\n",
    "    messages=[\n",
    "        {\"role\": \"system\", \"content\": \"You are a helpful assistant.\"},\n",
    "        {\"role\": \"user\", \"content\": prompt}\n",
    "    ]\n",
    ")\n",
    "\n",
    "print(completion.choices[0].message.content)"
   ]
  },
  {
   "cell_type": "code",
   "execution_count": 6,
   "metadata": {},
   "outputs": [
    {
     "name": "stdout",
     "output_type": "stream",
     "text": [
      "| Year | Idea/Individual              | Weight | Continent   |\n",
      "|------|------------------------------|--------|-------------|\n",
      "| -2000| Cave Art                     | 8      | Europe      |\n",
      "| -1500| Egyptian Hieroglyphs         | 7      | Africa      |\n",
      "| -500 | Greek Classical Sculpture     | 9      | Europe      |\n",
      "| 300  | Buddhist Art                 | 6      | Asia        |\n",
      "| 1300 | Gothic Architecture          | 8      | Europe      |\n",
      "| 1400 | Renaissance Humanism          | 10     | Europe      |\n",
      "| 1500 | Leonardo da Vinci            | 10     | Europe      |\n",
      "| 1600 | Baroque Art                  | 7      | Europe      |\n",
      "| 1700 | Rococo Style                 | 6      | Europe      |\n",
      "| 1800 | Romanticism                  | 8      | Europe      |\n",
      "| 1880 | Impressionism                | 9      | Europe      |\n",
      "| 1910 | Cubism                       | 9      | Europe      |\n",
      "| 1913 | Futurism                     | 7      | Europe      |\n",
      "| 1920 | Dadaism                      | 8      | Europe      |\n",
      "| 1937 | Surrealism                   | 9      | Europe      |\n",
      "| 1940 | Abstract Expressionism       | 8      | North America|\n",
      "| 1960 | Pop Art                      | 7      | North America|\n",
      "| 1980 | Postmodern Art               | 8      | North America|\n",
      "| 1990 | Installation Art             | 7      | North America|\n"
     ]
    }
   ],
   "source": [
    "print(completion.choices[0].message.content)"
   ]
  }
 ],
 "metadata": {
  "kernelspec": {
   "display_name": "art-science-philo-spirit",
   "language": "python",
   "name": "python3"
  },
  "language_info": {
   "codemirror_mode": {
    "name": "ipython",
    "version": 3
   },
   "file_extension": ".py",
   "mimetype": "text/x-python",
   "name": "python",
   "nbconvert_exporter": "python",
   "pygments_lexer": "ipython3",
   "version": "3.12.9"
  }
 },
 "nbformat": 4,
 "nbformat_minor": 2
}
